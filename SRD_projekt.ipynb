{
  "nbformat": 4,
  "nbformat_minor": 0,
  "metadata": {
    "colab": {
      "name": "SRD projekt",
      "provenance": [],
      "collapsed_sections": []
    },
    "kernelspec": {
      "name": "python3",
      "display_name": "Python 3"
    }
  },
  "cells": [
    {
      "cell_type": "code",
      "metadata": {
        "id": "AOBji-SKzfBD",
        "colab_type": "code",
        "colab": {}
      },
      "source": [
        "import matplotlib.pyplot as plt\n",
        "import pandas as pd\n",
        "import numpy as np\n",
        "import seaborn as sns\n",
        "%matplotlib inline"
      ],
      "execution_count": null,
      "outputs": []
    },
    {
      "cell_type": "code",
      "metadata": {
        "id": "0AiXv0PHfZIK",
        "colab_type": "code",
        "colab": {
          "base_uri": "https://localhost:8080/",
          "height": 375
        },
        "outputId": "f75afdf3-f25b-4a29-fe2a-5246bdac4093"
      },
      "source": [
        "# wczytanie danych\n",
        "data_start = pd.read_csv(\"/content/klienci.txt\", header=0, encoding='cp1252', index_col=\"numer\")\n",
        "data_start.head(10)"
      ],
      "execution_count": null,
      "outputs": [
        {
          "output_type": "execute_result",
          "data": {
            "text/html": [
              "<div>\n",
              "<style scoped>\n",
              "    .dataframe tbody tr th:only-of-type {\n",
              "        vertical-align: middle;\n",
              "    }\n",
              "\n",
              "    .dataframe tbody tr th {\n",
              "        vertical-align: top;\n",
              "    }\n",
              "\n",
              "    .dataframe thead th {\n",
              "        text-align: right;\n",
              "    }\n",
              "</style>\n",
              "<table border=\"1\" class=\"dataframe\">\n",
              "  <thead>\n",
              "    <tr style=\"text-align: right;\">\n",
              "      <th></th>\n",
              "      <th>wiek</th>\n",
              "      <th>plec</th>\n",
              "      <th>wyksztalcenie</th>\n",
              "      <th>miejsce</th>\n",
              "      <th>kwota</th>\n",
              "      <th>wojewodztwo</th>\n",
              "      <th>wysylka_oferty</th>\n",
              "      <th>zakup</th>\n",
              "    </tr>\n",
              "    <tr>\n",
              "      <th>numer</th>\n",
              "      <th></th>\n",
              "      <th></th>\n",
              "      <th></th>\n",
              "      <th></th>\n",
              "      <th></th>\n",
              "      <th></th>\n",
              "      <th></th>\n",
              "      <th></th>\n",
              "    </tr>\n",
              "  </thead>\n",
              "  <tbody>\n",
              "    <tr>\n",
              "      <th>1</th>\n",
              "      <td>32</td>\n",
              "      <td>1</td>\n",
              "      <td>srednie</td>\n",
              "      <td>wies</td>\n",
              "      <td>110.810558</td>\n",
              "      <td>dolsl</td>\n",
              "      <td>0</td>\n",
              "      <td>0</td>\n",
              "    </tr>\n",
              "    <tr>\n",
              "      <th>2</th>\n",
              "      <td>26</td>\n",
              "      <td>1</td>\n",
              "      <td>wyzsze</td>\n",
              "      <td>m100_500</td>\n",
              "      <td>100.857513</td>\n",
              "      <td>zachpom</td>\n",
              "      <td>0</td>\n",
              "      <td>0</td>\n",
              "    </tr>\n",
              "    <tr>\n",
              "      <th>3</th>\n",
              "      <td>20</td>\n",
              "      <td>0</td>\n",
              "      <td>srednie</td>\n",
              "      <td>m100_500</td>\n",
              "      <td>66.199017</td>\n",
              "      <td>zachpom</td>\n",
              "      <td>0</td>\n",
              "      <td>0</td>\n",
              "    </tr>\n",
              "    <tr>\n",
              "      <th>4</th>\n",
              "      <td>18</td>\n",
              "      <td>1</td>\n",
              "      <td>policealne</td>\n",
              "      <td>m100_500</td>\n",
              "      <td>77.017056</td>\n",
              "      <td>sl¹s</td>\n",
              "      <td>1</td>\n",
              "      <td>0</td>\n",
              "    </tr>\n",
              "    <tr>\n",
              "      <th>5</th>\n",
              "      <td>26</td>\n",
              "      <td>1</td>\n",
              "      <td>srednie</td>\n",
              "      <td>m100_500</td>\n",
              "      <td>137.221167</td>\n",
              "      <td>zachpom</td>\n",
              "      <td>0</td>\n",
              "      <td>0</td>\n",
              "    </tr>\n",
              "    <tr>\n",
              "      <th>6</th>\n",
              "      <td>33</td>\n",
              "      <td>0</td>\n",
              "      <td>wyzsze</td>\n",
              "      <td>m0_10</td>\n",
              "      <td>46.609796</td>\n",
              "      <td>dolsl</td>\n",
              "      <td>0</td>\n",
              "      <td>0</td>\n",
              "    </tr>\n",
              "    <tr>\n",
              "      <th>7</th>\n",
              "      <td>18</td>\n",
              "      <td>1</td>\n",
              "      <td>srednie</td>\n",
              "      <td>m_500</td>\n",
              "      <td>51.622458</td>\n",
              "      <td>dolsl</td>\n",
              "      <td>0</td>\n",
              "      <td>0</td>\n",
              "    </tr>\n",
              "    <tr>\n",
              "      <th>8</th>\n",
              "      <td>20</td>\n",
              "      <td>0</td>\n",
              "      <td>podstawowe</td>\n",
              "      <td>m0_10</td>\n",
              "      <td>28.060977</td>\n",
              "      <td>dolsl</td>\n",
              "      <td>1</td>\n",
              "      <td>1</td>\n",
              "    </tr>\n",
              "    <tr>\n",
              "      <th>9</th>\n",
              "      <td>22</td>\n",
              "      <td>0</td>\n",
              "      <td>policealne</td>\n",
              "      <td>m10_100</td>\n",
              "      <td>102.594906</td>\n",
              "      <td>dolsl</td>\n",
              "      <td>0</td>\n",
              "      <td>0</td>\n",
              "    </tr>\n",
              "    <tr>\n",
              "      <th>10</th>\n",
              "      <td>26</td>\n",
              "      <td>1</td>\n",
              "      <td>srednie</td>\n",
              "      <td>wies</td>\n",
              "      <td>74.678722</td>\n",
              "      <td>dolsl</td>\n",
              "      <td>0</td>\n",
              "      <td>0</td>\n",
              "    </tr>\n",
              "  </tbody>\n",
              "</table>\n",
              "</div>"
            ],
            "text/plain": [
              "       wiek  plec wyksztalcenie  ... wojewodztwo  wysylka_oferty zakup\n",
              "numer                            ...                                  \n",
              "1        32     1       srednie  ...       dolsl               0     0\n",
              "2        26     1        wyzsze  ...     zachpom               0     0\n",
              "3        20     0       srednie  ...     zachpom               0     0\n",
              "4        18     1    policealne  ...        sl¹s               1     0\n",
              "5        26     1       srednie  ...     zachpom               0     0\n",
              "6        33     0        wyzsze  ...       dolsl               0     0\n",
              "7        18     1       srednie  ...       dolsl               0     0\n",
              "8        20     0    podstawowe  ...       dolsl               1     1\n",
              "9        22     0    policealne  ...       dolsl               0     0\n",
              "10       26     1       srednie  ...       dolsl               0     0\n",
              "\n",
              "[10 rows x 8 columns]"
            ]
          },
          "metadata": {
            "tags": []
          },
          "execution_count": 606
        }
      ]
    },
    {
      "cell_type": "code",
      "metadata": {
        "id": "dt-idZLZBVVW",
        "colab_type": "code",
        "colab": {}
      },
      "source": [
        "# 1. if wysylka = 1 & zakup = 1 TAK!\n",
        "# 2. if wysylka = 1 & zakup 0 NIE WYSYLAMY!\n",
        "# 3. if wysylka = 0 & zakup = 1 TAK!\n",
        "# # 4. if wysylka = 0 & zakup = 0 NIE WIEMY\n",
        "# 4a if wysylka = 1 & zakup = 1 TAK!\n",
        "# 4b if wysylka = 1 & zakup = 0 NIE WYSYLAMY!\n",
        "\n",
        "# 1&3&4a = 1\n",
        "# 2&4b = 0\n",
        "\n",
        "#1 dataset ze zmienna wysylka_oferty\n",
        "#2 dataset ze zmienna"
      ],
      "execution_count": null,
      "outputs": []
    },
    {
      "cell_type": "code",
      "metadata": {
        "id": "Z3hjwFhcIgNQ",
        "colab_type": "code",
        "colab": {}
      },
      "source": [
        "data1a = data_start.loc[(data_start.wysylka_oferty == 1)]\n",
        "data1b = data_start.loc[(data_start.wysylka_oferty == 0) & (data_start.zakup == 1)]\n",
        "data = pd.concat([data1a, data1b])"
      ],
      "execution_count": null,
      "outputs": []
    },
    {
      "cell_type": "code",
      "metadata": {
        "id": "ir_2OXx6ERIP",
        "colab_type": "code",
        "colab": {
          "base_uri": "https://localhost:8080/",
          "height": 33
        },
        "outputId": "d371f366-72fc-475f-f4ce-cae6e0d13394"
      },
      "source": [
        "data.loc[(data.wysylka_oferty == 1)].zakup.sum() / data.wysylka_oferty.sum()"
      ],
      "execution_count": null,
      "outputs": [
        {
          "output_type": "execute_result",
          "data": {
            "text/plain": [
              "0.36191425722831505"
            ]
          },
          "metadata": {
            "tags": []
          },
          "execution_count": 609
        }
      ]
    },
    {
      "cell_type": "code",
      "metadata": {
        "id": "C9-q312UDqXk",
        "colab_type": "code",
        "colab": {
          "base_uri": "https://localhost:8080/",
          "height": 67
        },
        "outputId": "c8b048b6-04cf-4679-e787-1c495e3cbd9d"
      },
      "source": [
        "data.wysylka_oferty.value_counts()"
      ],
      "execution_count": null,
      "outputs": [
        {
          "output_type": "execute_result",
          "data": {
            "text/plain": [
              "1    2006\n",
              "0     591\n",
              "Name: wysylka_oferty, dtype: int64"
            ]
          },
          "metadata": {
            "tags": []
          },
          "execution_count": 610
        }
      ]
    },
    {
      "cell_type": "code",
      "metadata": {
        "id": "j9_4pItVDt-j",
        "colab_type": "code",
        "colab": {
          "base_uri": "https://localhost:8080/",
          "height": 50
        },
        "outputId": "f56f5ca5-2bfe-4b3e-e08a-157d28f74a09"
      },
      "source": [
        "data.loc[(data.wysylka_oferty == 0)].zakup.value_counts(normalize=True)\n",
        "# data.zakup.value_counts()"
      ],
      "execution_count": null,
      "outputs": [
        {
          "output_type": "execute_result",
          "data": {
            "text/plain": [
              "1    1.0\n",
              "Name: zakup, dtype: float64"
            ]
          },
          "metadata": {
            "tags": []
          },
          "execution_count": 611
        }
      ]
    },
    {
      "cell_type": "code",
      "metadata": {
        "id": "7bT_WETDsOF9",
        "colab_type": "code",
        "colab": {
          "base_uri": "https://localhost:8080/",
          "height": 50
        },
        "outputId": "c0511d7a-a51f-4c18-c14d-eff8f00ae89f"
      },
      "source": [
        "data2 = data.loc[(data.wysylka_oferty==0)]\n",
        "data2.zakup.value_counts(normalize=False)"
      ],
      "execution_count": null,
      "outputs": [
        {
          "output_type": "execute_result",
          "data": {
            "text/plain": [
              "1    591\n",
              "Name: zakup, dtype: int64"
            ]
          },
          "metadata": {
            "tags": []
          },
          "execution_count": 612
        }
      ]
    },
    {
      "cell_type": "code",
      "metadata": {
        "id": "niFjylZirfVk",
        "colab_type": "code",
        "colab": {
          "base_uri": "https://localhost:8080/",
          "height": 67
        },
        "outputId": "1f36c3b4-fa6b-4cb1-d12c-e0c208372f1a"
      },
      "source": [
        "data3 = data.loc[(data.wysylka_oferty==1)]\n",
        "data3.zakup.value_counts(normalize=False)"
      ],
      "execution_count": null,
      "outputs": [
        {
          "output_type": "execute_result",
          "data": {
            "text/plain": [
              "0    1280\n",
              "1     726\n",
              "Name: zakup, dtype: int64"
            ]
          },
          "metadata": {
            "tags": []
          },
          "execution_count": 613
        }
      ]
    },
    {
      "cell_type": "code",
      "metadata": {
        "id": "txzrj4Tm_B0w",
        "colab_type": "code",
        "colab": {
          "base_uri": "https://localhost:8080/",
          "height": 286
        },
        "outputId": "bf7a3f46-2152-42fe-9175-579b822b4a1c"
      },
      "source": [
        "# podstawowe statystyki\n",
        "data.describe()"
      ],
      "execution_count": null,
      "outputs": [
        {
          "output_type": "execute_result",
          "data": {
            "text/html": [
              "<div>\n",
              "<style scoped>\n",
              "    .dataframe tbody tr th:only-of-type {\n",
              "        vertical-align: middle;\n",
              "    }\n",
              "\n",
              "    .dataframe tbody tr th {\n",
              "        vertical-align: top;\n",
              "    }\n",
              "\n",
              "    .dataframe thead th {\n",
              "        text-align: right;\n",
              "    }\n",
              "</style>\n",
              "<table border=\"1\" class=\"dataframe\">\n",
              "  <thead>\n",
              "    <tr style=\"text-align: right;\">\n",
              "      <th></th>\n",
              "      <th>wiek</th>\n",
              "      <th>plec</th>\n",
              "      <th>kwota</th>\n",
              "      <th>wysylka_oferty</th>\n",
              "      <th>zakup</th>\n",
              "    </tr>\n",
              "  </thead>\n",
              "  <tbody>\n",
              "    <tr>\n",
              "      <th>count</th>\n",
              "      <td>2597.000000</td>\n",
              "      <td>2597.000000</td>\n",
              "      <td>2597.000000</td>\n",
              "      <td>2597.000000</td>\n",
              "      <td>2597.000000</td>\n",
              "    </tr>\n",
              "    <tr>\n",
              "      <th>mean</th>\n",
              "      <td>42.251444</td>\n",
              "      <td>0.370812</td>\n",
              "      <td>83.784958</td>\n",
              "      <td>0.772430</td>\n",
              "      <td>0.507124</td>\n",
              "    </tr>\n",
              "    <tr>\n",
              "      <th>std</th>\n",
              "      <td>15.127282</td>\n",
              "      <td>0.483115</td>\n",
              "      <td>62.371061</td>\n",
              "      <td>0.419344</td>\n",
              "      <td>0.500046</td>\n",
              "    </tr>\n",
              "    <tr>\n",
              "      <th>min</th>\n",
              "      <td>18.000000</td>\n",
              "      <td>0.000000</td>\n",
              "      <td>0.000000</td>\n",
              "      <td>0.000000</td>\n",
              "      <td>0.000000</td>\n",
              "    </tr>\n",
              "    <tr>\n",
              "      <th>25%</th>\n",
              "      <td>29.000000</td>\n",
              "      <td>0.000000</td>\n",
              "      <td>41.963055</td>\n",
              "      <td>1.000000</td>\n",
              "      <td>0.000000</td>\n",
              "    </tr>\n",
              "    <tr>\n",
              "      <th>50%</th>\n",
              "      <td>42.000000</td>\n",
              "      <td>0.000000</td>\n",
              "      <td>73.450104</td>\n",
              "      <td>1.000000</td>\n",
              "      <td>1.000000</td>\n",
              "    </tr>\n",
              "    <tr>\n",
              "      <th>75%</th>\n",
              "      <td>53.000000</td>\n",
              "      <td>1.000000</td>\n",
              "      <td>115.098220</td>\n",
              "      <td>1.000000</td>\n",
              "      <td>1.000000</td>\n",
              "    </tr>\n",
              "    <tr>\n",
              "      <th>max</th>\n",
              "      <td>82.000000</td>\n",
              "      <td>1.000000</td>\n",
              "      <td>420.190823</td>\n",
              "      <td>1.000000</td>\n",
              "      <td>1.000000</td>\n",
              "    </tr>\n",
              "  </tbody>\n",
              "</table>\n",
              "</div>"
            ],
            "text/plain": [
              "              wiek         plec        kwota  wysylka_oferty        zakup\n",
              "count  2597.000000  2597.000000  2597.000000     2597.000000  2597.000000\n",
              "mean     42.251444     0.370812    83.784958        0.772430     0.507124\n",
              "std      15.127282     0.483115    62.371061        0.419344     0.500046\n",
              "min      18.000000     0.000000     0.000000        0.000000     0.000000\n",
              "25%      29.000000     0.000000    41.963055        1.000000     0.000000\n",
              "50%      42.000000     0.000000    73.450104        1.000000     1.000000\n",
              "75%      53.000000     1.000000   115.098220        1.000000     1.000000\n",
              "max      82.000000     1.000000   420.190823        1.000000     1.000000"
            ]
          },
          "metadata": {
            "tags": []
          },
          "execution_count": 614
        }
      ]
    },
    {
      "cell_type": "code",
      "metadata": {
        "id": "0sqYRqG3vmyN",
        "colab_type": "code",
        "colab": {
          "base_uri": "https://localhost:8080/",
          "height": 167
        },
        "outputId": "f3e032b4-fbe2-4ff7-eb1a-4d74f37b2ef0"
      },
      "source": [
        "# sprawdzenie czy są missingi\n",
        "data.isna().sum()"
      ],
      "execution_count": null,
      "outputs": [
        {
          "output_type": "execute_result",
          "data": {
            "text/plain": [
              "wiek              0\n",
              "plec              0\n",
              "wyksztalcenie     0\n",
              "miejsce           0\n",
              "kwota             0\n",
              "wojewodztwo       0\n",
              "wysylka_oferty    0\n",
              "zakup             0\n",
              "dtype: int64"
            ]
          },
          "metadata": {
            "tags": []
          },
          "execution_count": 615
        }
      ]
    },
    {
      "cell_type": "code",
      "metadata": {
        "id": "gDQJAkDqzRDz",
        "colab_type": "code",
        "colab": {
          "base_uri": "https://localhost:8080/",
          "height": 167
        },
        "outputId": "3ef15b9a-9ccb-474c-bdce-e8d0cde37ff8"
      },
      "source": [
        "# jakie mamy rodzaje zmiennych\n",
        "data.dtypes"
      ],
      "execution_count": null,
      "outputs": [
        {
          "output_type": "execute_result",
          "data": {
            "text/plain": [
              "wiek                int64\n",
              "plec                int64\n",
              "wyksztalcenie      object\n",
              "miejsce            object\n",
              "kwota             float64\n",
              "wojewodztwo        object\n",
              "wysylka_oferty      int64\n",
              "zakup               int64\n",
              "dtype: object"
            ]
          },
          "metadata": {
            "tags": []
          },
          "execution_count": 616
        }
      ]
    },
    {
      "cell_type": "code",
      "metadata": {
        "id": "lJVEOH5UOI3f",
        "colab_type": "code",
        "colab": {
          "base_uri": "https://localhost:8080/",
          "height": 753
        },
        "outputId": "c38d9c5d-ee12-4248-c903-7b4b9ff88622"
      },
      "source": [
        "# ile mamy różnych wartości w danych dyskretnych\n",
        "discrete_data = data.drop(columns=['wiek','kwota'])\n",
        "for c in discrete_data.columns:\n",
        "    print(\"---- %s ---\" % c)\n",
        "    print(data[c].value_counts(normalize=True))"
      ],
      "execution_count": null,
      "outputs": [
        {
          "output_type": "stream",
          "text": [
            "---- plec ---\n",
            "0    0.629188\n",
            "1    0.370812\n",
            "Name: plec, dtype: float64\n",
            "---- wyksztalcenie ---\n",
            "srednie       0.395841\n",
            "wyzsze        0.350789\n",
            "podstawowe    0.184444\n",
            "policealne    0.045052\n",
            "brak          0.023874\n",
            "Name: wyksztalcenie, dtype: float64\n",
            "---- miejsce ---\n",
            "wies        0.250674\n",
            "m0_10       0.237197\n",
            "m10_100     0.189064\n",
            "m100_500    0.166731\n",
            "m_500       0.156334\n",
            "Name: miejsce, dtype: float64\n",
            "---- wojewodztwo ---\n",
            "dolsl      0.530227\n",
            "zachpom    0.167886\n",
            "mazow      0.043897\n",
            "sl¹s       0.038891\n",
            "ma³op      0.034270\n",
            "wielkop    0.024259\n",
            "³ódz       0.022719\n",
            "lubel      0.021948\n",
            "kujpom     0.019253\n",
            "pomo       0.018868\n",
            "podkar     0.018483\n",
            "swiêt      0.013477\n",
            "lubus      0.013092\n",
            "opol       0.012322\n",
            "podlas     0.011552\n",
            "warmaz     0.008856\n",
            "Name: wojewodztwo, dtype: float64\n",
            "---- wysylka_oferty ---\n",
            "1    0.77243\n",
            "0    0.22757\n",
            "Name: wysylka_oferty, dtype: float64\n",
            "---- zakup ---\n",
            "1    0.507124\n",
            "0    0.492876\n",
            "Name: zakup, dtype: float64\n"
          ],
          "name": "stdout"
        }
      ]
    },
    {
      "cell_type": "code",
      "metadata": {
        "id": "iIAIPhLX8RHD",
        "colab_type": "code",
        "colab": {
          "base_uri": "https://localhost:8080/",
          "height": 296
        },
        "outputId": "08755f9e-512e-4aa4-9a9c-5269b4e42409"
      },
      "source": [
        "# ile mamy poszczegolnych wartosci w zmiennej wojewodztwo\n",
        "sns.countplot(y=data.wojewodztwo)"
      ],
      "execution_count": null,
      "outputs": [
        {
          "output_type": "execute_result",
          "data": {
            "text/plain": [
              "<matplotlib.axes._subplots.AxesSubplot at 0x7f3940368c50>"
            ]
          },
          "metadata": {
            "tags": []
          },
          "execution_count": 618
        },
        {
          "output_type": "display_data",
          "data": {
            "image/png": "[encoded data removed]",
            "text/plain": [
              "<Figure size 432x288 with 1 Axes>"
            ]
          },
          "metadata": {
            "tags": [],
            "needs_background": "light"
          }
        }
      ]
    },
    {
      "cell_type": "code",
      "metadata": {
        "id": "JVTB-E5X9hES",
        "colab_type": "code",
        "colab": {
          "base_uri": "https://localhost:8080/",
          "height": 33
        },
        "outputId": "7a6dfb65-34f9-4328-cff0-5a4756d041ab"
      },
      "source": [
        "# średnio wydana kwota przez osoby, ktore otrzymaly oferte\n",
        "got_offer = data.loc[(data.wysylka_oferty == 1)]\n",
        "got_offer.kwota.mean()"
      ],
      "execution_count": null,
      "outputs": [
        {
          "output_type": "execute_result",
          "data": {
            "text/plain": [
              "81.63698291509571"
            ]
          },
          "metadata": {
            "tags": []
          },
          "execution_count": 619
        }
      ]
    },
    {
      "cell_type": "code",
      "metadata": {
        "id": "IHMm0fbV9wOp",
        "colab_type": "code",
        "colab": {
          "base_uri": "https://localhost:8080/",
          "height": 33
        },
        "outputId": "dd134e89-2866-441f-d536-c7915cf13df4"
      },
      "source": [
        "# średnio wydana kwota przez osoby, ktore nie otrzymaly oferty\n",
        "didnt_get_offer = data.loc[(data.wysylka_oferty == 0)]\n",
        "didnt_get_offer.kwota.mean()"
      ],
      "execution_count": null,
      "outputs": [
        {
          "output_type": "execute_result",
          "data": {
            "text/plain": [
              "91.07571431574794"
            ]
          },
          "metadata": {
            "tags": []
          },
          "execution_count": 620
        }
      ]
    },
    {
      "cell_type": "code",
      "metadata": {
        "id": "9ubnv-hxBQ-n",
        "colab_type": "code",
        "colab": {
          "base_uri": "https://localhost:8080/",
          "height": 350
        },
        "outputId": "c796c1da-0c6f-40c6-b2ba-9674cb6b77e8"
      },
      "source": [
        "# Rozkład zmiennej ciągłej - kwota\n",
        "plt.figure(figsize=(5,5))\n",
        "sns.distplot(data.kwota)"
      ],
      "execution_count": null,
      "outputs": [
        {
          "output_type": "execute_result",
          "data": {
            "text/plain": [
              "<matplotlib.axes._subplots.AxesSubplot at 0x7f393f536a20>"
            ]
          },
          "metadata": {
            "tags": []
          },
          "execution_count": 621
        },
        {
          "output_type": "display_data",
          "data": {
            "image/png": "[encoded data removed]",
            "text/plain": [
              "<Figure size 360x360 with 1 Axes>"
            ]
          },
          "metadata": {
            "tags": [],
            "needs_background": "light"
          }
        }
      ]
    },
    {
      "cell_type": "code",
      "metadata": {
        "id": "Omgpdkl3Bnni",
        "colab_type": "code",
        "colab": {
          "base_uri": "https://localhost:8080/",
          "height": 67
        },
        "outputId": "82ba4738-f222-43ef-9bf4-9272120b20f9"
      },
      "source": [
        "# ile osób nic nie kupiło\n",
        "nothing = sum(data.kwota==0)\n",
        "procentowo = round(nothing /data.shape[0] *100,2)\n",
        "print(f\"Nie kupiło nic {nothing} osób \\n\")\n",
        "print(f\"Czyli {procentowo}% wszystkich osób\")"
      ],
      "execution_count": null,
      "outputs": [
        {
          "output_type": "stream",
          "text": [
            "Nie kupiło nic 296 osób \n",
            "\n",
            "Czyli 11.4% wszystkich osób\n"
          ],
          "name": "stdout"
        }
      ]
    },
    {
      "cell_type": "code",
      "metadata": {
        "id": "4GotfCOvKuza",
        "colab_type": "code",
        "colab": {
          "base_uri": "https://localhost:8080/",
          "height": 350
        },
        "outputId": "422a1b4c-73af-42bb-c190-53210a3f1a3b"
      },
      "source": [
        "# Rozkład zmiennej ciągłej - Wiek\n",
        "plt.figure(figsize=(5,5))\n",
        "sns.distplot(data.wiek)"
      ],
      "execution_count": null,
      "outputs": [
        {
          "output_type": "execute_result",
          "data": {
            "text/plain": [
              "<matplotlib.axes._subplots.AxesSubplot at 0x7f393ea34588>"
            ]
          },
          "metadata": {
            "tags": []
          },
          "execution_count": 623
        },
        {
          "output_type": "display_data",
          "data": {
            "image/png": "[encoded data removed]",
            "text/plain": [
              "<Figure size 360x360 with 1 Axes>"
            ]
          },
          "metadata": {
            "tags": [],
            "needs_background": "light"
          }
        }
      ]
    },
    {
      "cell_type": "code",
      "metadata": {
        "id": "9OEITW4s--m_",
        "colab_type": "code",
        "colab": {
          "base_uri": "https://localhost:8080/",
          "height": 286
        },
        "outputId": "66a3f145-8060-411c-a91b-041e6675f477"
      },
      "source": [
        "# Macierz korelacji danych przedstawiona na heatmapie\n",
        "corrMatrix = data.corr()\n",
        "sns.heatmap(corrMatrix, annot=True)"
      ],
      "execution_count": null,
      "outputs": [
        {
          "output_type": "execute_result",
          "data": {
            "text/plain": [
              "<matplotlib.axes._subplots.AxesSubplot at 0x7f393e8d6320>"
            ]
          },
          "metadata": {
            "tags": []
          },
          "execution_count": 624
        },
        {
          "output_type": "display_data",
          "data": {
            "image/png": "[encoded data removed]",
            "text/plain": [
              "<Figure size 432x288 with 2 Axes>"
            ]
          },
          "metadata": {
            "tags": [],
            "needs_background": "light"
          }
        }
      ]
    },
    {
      "cell_type": "code",
      "metadata": {
        "id": "Ai6Ej9wVVTqy",
        "colab_type": "code",
        "colab": {
          "base_uri": "https://localhost:8080/",
          "height": 226
        },
        "outputId": "f0a8224d-47fe-4216-8b00-895cdbb6cdb4"
      },
      "source": [
        "# wgrywamy dataset testowy\n",
        "test = pd.read_csv(\"/content/klienci_final.txt\", header=0, encoding='cp1252')\n",
        "test = test.set_index(\"numer\")\n",
        "test.head()"
      ],
      "execution_count": null,
      "outputs": [
        {
          "output_type": "execute_result",
          "data": {
            "text/html": [
              "<div>\n",
              "<style scoped>\n",
              "    .dataframe tbody tr th:only-of-type {\n",
              "        vertical-align: middle;\n",
              "    }\n",
              "\n",
              "    .dataframe tbody tr th {\n",
              "        vertical-align: top;\n",
              "    }\n",
              "\n",
              "    .dataframe thead th {\n",
              "        text-align: right;\n",
              "    }\n",
              "</style>\n",
              "<table border=\"1\" class=\"dataframe\">\n",
              "  <thead>\n",
              "    <tr style=\"text-align: right;\">\n",
              "      <th></th>\n",
              "      <th>wiek</th>\n",
              "      <th>plec</th>\n",
              "      <th>wyksztalcenie</th>\n",
              "      <th>miejsce</th>\n",
              "      <th>kwota</th>\n",
              "      <th>wojewodztwo</th>\n",
              "    </tr>\n",
              "    <tr>\n",
              "      <th>numer</th>\n",
              "      <th></th>\n",
              "      <th></th>\n",
              "      <th></th>\n",
              "      <th></th>\n",
              "      <th></th>\n",
              "      <th></th>\n",
              "    </tr>\n",
              "  </thead>\n",
              "  <tbody>\n",
              "    <tr>\n",
              "      <th>1</th>\n",
              "      <td>35</td>\n",
              "      <td>0</td>\n",
              "      <td>podstawowe</td>\n",
              "      <td>wies</td>\n",
              "      <td>97.965209</td>\n",
              "      <td>zachpom</td>\n",
              "    </tr>\n",
              "    <tr>\n",
              "      <th>2</th>\n",
              "      <td>26</td>\n",
              "      <td>1</td>\n",
              "      <td>podstawowe</td>\n",
              "      <td>wies</td>\n",
              "      <td>38.377882</td>\n",
              "      <td>dolsl</td>\n",
              "    </tr>\n",
              "    <tr>\n",
              "      <th>3</th>\n",
              "      <td>31</td>\n",
              "      <td>0</td>\n",
              "      <td>srednie</td>\n",
              "      <td>m10_100</td>\n",
              "      <td>136.401297</td>\n",
              "      <td>dolsl</td>\n",
              "    </tr>\n",
              "    <tr>\n",
              "      <th>4</th>\n",
              "      <td>25</td>\n",
              "      <td>0</td>\n",
              "      <td>policealne</td>\n",
              "      <td>m100_500</td>\n",
              "      <td>118.728067</td>\n",
              "      <td>dolsl</td>\n",
              "    </tr>\n",
              "    <tr>\n",
              "      <th>5</th>\n",
              "      <td>18</td>\n",
              "      <td>1</td>\n",
              "      <td>srednie</td>\n",
              "      <td>m_500</td>\n",
              "      <td>79.311481</td>\n",
              "      <td>dolsl</td>\n",
              "    </tr>\n",
              "  </tbody>\n",
              "</table>\n",
              "</div>"
            ],
            "text/plain": [
              "       wiek  plec wyksztalcenie   miejsce       kwota wojewodztwo\n",
              "numer                                                            \n",
              "1        35     0    podstawowe      wies   97.965209     zachpom\n",
              "2        26     1    podstawowe      wies   38.377882       dolsl\n",
              "3        31     0       srednie   m10_100  136.401297       dolsl\n",
              "4        25     0    policealne  m100_500  118.728067       dolsl\n",
              "5        18     1       srednie     m_500   79.311481       dolsl"
            ]
          },
          "metadata": {
            "tags": []
          },
          "execution_count": 625
        }
      ]
    },
    {
      "cell_type": "code",
      "metadata": {
        "id": "nsPnxzz8Sy56",
        "colab_type": "code",
        "colab": {}
      },
      "source": [
        "# zamiana zmiennych kategorycznych na liczbowe z użyciem OH Encodera\n",
        "from sklearn.preprocessing import OneHotEncoder\n",
        "from sklearn import preprocessing\n",
        "categorical_cols = ['wyksztalcenie', 'miejsce', 'wojewodztwo']\n",
        "OH_encoder = OneHotEncoder(handle_unknown='ignore', sparse=False)\n",
        "OH_cols_train = pd.DataFrame(OH_encoder.fit_transform(data[categorical_cols]))\n",
        "OH_cols_valid = pd.DataFrame(OH_encoder.transform(test[categorical_cols]))\n",
        "\n",
        "OH_cols_train.index = data.index\n",
        "OH_cols_valid.index = test.index\n",
        "\n",
        "# Remove categorical columns (will replace with one-hot encoding)\n",
        "num_X_train = data.drop(categorical_cols, axis=1)\n",
        "num_X_valid = test.drop(categorical_cols, axis=1)\n",
        "\n",
        "# Add one-hot encoded columns to numerical features\n",
        "data_enc = pd.concat([num_X_train, OH_cols_train], axis=1)\n",
        "test_enc = pd.concat([num_X_valid, OH_cols_valid], axis=1)"
      ],
      "execution_count": null,
      "outputs": []
    },
    {
      "cell_type": "code",
      "metadata": {
        "id": "d4yeL29cS2Tn",
        "colab_type": "code",
        "colab": {
          "base_uri": "https://localhost:8080/",
          "height": 246
        },
        "outputId": "ec180881-b9db-4947-dd49-31c3115aaa32"
      },
      "source": [
        "data_enc.head()"
      ],
      "execution_count": null,
      "outputs": [
        {
          "output_type": "execute_result",
          "data": {
            "text/html": [
              "<div>\n",
              "<style scoped>\n",
              "    .dataframe tbody tr th:only-of-type {\n",
              "        vertical-align: middle;\n",
              "    }\n",
              "\n",
              "    .dataframe tbody tr th {\n",
              "        vertical-align: top;\n",
              "    }\n",
              "\n",
              "    .dataframe thead th {\n",
              "        text-align: right;\n",
              "    }\n",
              "</style>\n",
              "<table border=\"1\" class=\"dataframe\">\n",
              "  <thead>\n",
              "    <tr style=\"text-align: right;\">\n",
              "      <th></th>\n",
              "      <th>wiek</th>\n",
              "      <th>plec</th>\n",
              "      <th>kwota</th>\n",
              "      <th>wysylka_oferty</th>\n",
              "      <th>zakup</th>\n",
              "      <th>0</th>\n",
              "      <th>1</th>\n",
              "      <th>2</th>\n",
              "      <th>3</th>\n",
              "      <th>4</th>\n",
              "      <th>5</th>\n",
              "      <th>6</th>\n",
              "      <th>7</th>\n",
              "      <th>8</th>\n",
              "      <th>9</th>\n",
              "      <th>10</th>\n",
              "      <th>11</th>\n",
              "      <th>12</th>\n",
              "      <th>13</th>\n",
              "      <th>14</th>\n",
              "      <th>15</th>\n",
              "      <th>16</th>\n",
              "      <th>17</th>\n",
              "      <th>18</th>\n",
              "      <th>19</th>\n",
              "      <th>20</th>\n",
              "      <th>21</th>\n",
              "      <th>22</th>\n",
              "      <th>23</th>\n",
              "      <th>24</th>\n",
              "      <th>25</th>\n",
              "    </tr>\n",
              "    <tr>\n",
              "      <th>numer</th>\n",
              "      <th></th>\n",
              "      <th></th>\n",
              "      <th></th>\n",
              "      <th></th>\n",
              "      <th></th>\n",
              "      <th></th>\n",
              "      <th></th>\n",
              "      <th></th>\n",
              "      <th></th>\n",
              "      <th></th>\n",
              "      <th></th>\n",
              "      <th></th>\n",
              "      <th></th>\n",
              "      <th></th>\n",
              "      <th></th>\n",
              "      <th></th>\n",
              "      <th></th>\n",
              "      <th></th>\n",
              "      <th></th>\n",
              "      <th></th>\n",
              "      <th></th>\n",
              "      <th></th>\n",
              "      <th></th>\n",
              "      <th></th>\n",
              "      <th></th>\n",
              "      <th></th>\n",
              "      <th></th>\n",
              "      <th></th>\n",
              "      <th></th>\n",
              "      <th></th>\n",
              "      <th></th>\n",
              "    </tr>\n",
              "  </thead>\n",
              "  <tbody>\n",
              "    <tr>\n",
              "      <th>4</th>\n",
              "      <td>18</td>\n",
              "      <td>1</td>\n",
              "      <td>77.017056</td>\n",
              "      <td>1</td>\n",
              "      <td>0</td>\n",
              "      <td>0.0</td>\n",
              "      <td>0.0</td>\n",
              "      <td>1.0</td>\n",
              "      <td>0.0</td>\n",
              "      <td>0.0</td>\n",
              "      <td>0.0</td>\n",
              "      <td>1.0</td>\n",
              "      <td>0.0</td>\n",
              "      <td>0.0</td>\n",
              "      <td>0.0</td>\n",
              "      <td>0.0</td>\n",
              "      <td>0.0</td>\n",
              "      <td>0.0</td>\n",
              "      <td>0.0</td>\n",
              "      <td>0.0</td>\n",
              "      <td>0.0</td>\n",
              "      <td>0.0</td>\n",
              "      <td>0.0</td>\n",
              "      <td>0.0</td>\n",
              "      <td>0.0</td>\n",
              "      <td>1.0</td>\n",
              "      <td>0.0</td>\n",
              "      <td>0.0</td>\n",
              "      <td>0.0</td>\n",
              "      <td>0.0</td>\n",
              "      <td>0.0</td>\n",
              "    </tr>\n",
              "    <tr>\n",
              "      <th>8</th>\n",
              "      <td>20</td>\n",
              "      <td>0</td>\n",
              "      <td>28.060977</td>\n",
              "      <td>1</td>\n",
              "      <td>1</td>\n",
              "      <td>0.0</td>\n",
              "      <td>1.0</td>\n",
              "      <td>0.0</td>\n",
              "      <td>0.0</td>\n",
              "      <td>0.0</td>\n",
              "      <td>1.0</td>\n",
              "      <td>0.0</td>\n",
              "      <td>0.0</td>\n",
              "      <td>0.0</td>\n",
              "      <td>0.0</td>\n",
              "      <td>1.0</td>\n",
              "      <td>0.0</td>\n",
              "      <td>0.0</td>\n",
              "      <td>0.0</td>\n",
              "      <td>0.0</td>\n",
              "      <td>0.0</td>\n",
              "      <td>0.0</td>\n",
              "      <td>0.0</td>\n",
              "      <td>0.0</td>\n",
              "      <td>0.0</td>\n",
              "      <td>0.0</td>\n",
              "      <td>0.0</td>\n",
              "      <td>0.0</td>\n",
              "      <td>0.0</td>\n",
              "      <td>0.0</td>\n",
              "      <td>0.0</td>\n",
              "    </tr>\n",
              "    <tr>\n",
              "      <th>22</th>\n",
              "      <td>29</td>\n",
              "      <td>0</td>\n",
              "      <td>78.463580</td>\n",
              "      <td>1</td>\n",
              "      <td>1</td>\n",
              "      <td>0.0</td>\n",
              "      <td>0.0</td>\n",
              "      <td>0.0</td>\n",
              "      <td>1.0</td>\n",
              "      <td>0.0</td>\n",
              "      <td>0.0</td>\n",
              "      <td>1.0</td>\n",
              "      <td>0.0</td>\n",
              "      <td>0.0</td>\n",
              "      <td>0.0</td>\n",
              "      <td>1.0</td>\n",
              "      <td>0.0</td>\n",
              "      <td>0.0</td>\n",
              "      <td>0.0</td>\n",
              "      <td>0.0</td>\n",
              "      <td>0.0</td>\n",
              "      <td>0.0</td>\n",
              "      <td>0.0</td>\n",
              "      <td>0.0</td>\n",
              "      <td>0.0</td>\n",
              "      <td>0.0</td>\n",
              "      <td>0.0</td>\n",
              "      <td>0.0</td>\n",
              "      <td>0.0</td>\n",
              "      <td>0.0</td>\n",
              "      <td>0.0</td>\n",
              "    </tr>\n",
              "    <tr>\n",
              "      <th>23</th>\n",
              "      <td>25</td>\n",
              "      <td>1</td>\n",
              "      <td>114.416752</td>\n",
              "      <td>1</td>\n",
              "      <td>0</td>\n",
              "      <td>0.0</td>\n",
              "      <td>1.0</td>\n",
              "      <td>0.0</td>\n",
              "      <td>0.0</td>\n",
              "      <td>0.0</td>\n",
              "      <td>1.0</td>\n",
              "      <td>0.0</td>\n",
              "      <td>0.0</td>\n",
              "      <td>0.0</td>\n",
              "      <td>0.0</td>\n",
              "      <td>0.0</td>\n",
              "      <td>0.0</td>\n",
              "      <td>0.0</td>\n",
              "      <td>0.0</td>\n",
              "      <td>0.0</td>\n",
              "      <td>0.0</td>\n",
              "      <td>0.0</td>\n",
              "      <td>0.0</td>\n",
              "      <td>0.0</td>\n",
              "      <td>0.0</td>\n",
              "      <td>0.0</td>\n",
              "      <td>0.0</td>\n",
              "      <td>0.0</td>\n",
              "      <td>0.0</td>\n",
              "      <td>1.0</td>\n",
              "      <td>0.0</td>\n",
              "    </tr>\n",
              "    <tr>\n",
              "      <th>30</th>\n",
              "      <td>29</td>\n",
              "      <td>0</td>\n",
              "      <td>109.744286</td>\n",
              "      <td>1</td>\n",
              "      <td>1</td>\n",
              "      <td>0.0</td>\n",
              "      <td>0.0</td>\n",
              "      <td>0.0</td>\n",
              "      <td>1.0</td>\n",
              "      <td>0.0</td>\n",
              "      <td>0.0</td>\n",
              "      <td>0.0</td>\n",
              "      <td>0.0</td>\n",
              "      <td>0.0</td>\n",
              "      <td>1.0</td>\n",
              "      <td>1.0</td>\n",
              "      <td>0.0</td>\n",
              "      <td>0.0</td>\n",
              "      <td>0.0</td>\n",
              "      <td>0.0</td>\n",
              "      <td>0.0</td>\n",
              "      <td>0.0</td>\n",
              "      <td>0.0</td>\n",
              "      <td>0.0</td>\n",
              "      <td>0.0</td>\n",
              "      <td>0.0</td>\n",
              "      <td>0.0</td>\n",
              "      <td>0.0</td>\n",
              "      <td>0.0</td>\n",
              "      <td>0.0</td>\n",
              "      <td>0.0</td>\n",
              "    </tr>\n",
              "  </tbody>\n",
              "</table>\n",
              "</div>"
            ],
            "text/plain": [
              "       wiek  plec       kwota  wysylka_oferty  zakup  ...   21   22   23   24   25\n",
              "numer                                                 ...                         \n",
              "4        18     1   77.017056               1      0  ...  0.0  0.0  0.0  0.0  0.0\n",
              "8        20     0   28.060977               1      1  ...  0.0  0.0  0.0  0.0  0.0\n",
              "22       29     0   78.463580               1      1  ...  0.0  0.0  0.0  0.0  0.0\n",
              "23       25     1  114.416752               1      0  ...  0.0  0.0  0.0  1.0  0.0\n",
              "30       29     0  109.744286               1      1  ...  0.0  0.0  0.0  0.0  0.0\n",
              "\n",
              "[5 rows x 31 columns]"
            ]
          },
          "metadata": {
            "tags": []
          },
          "execution_count": 627
        }
      ]
    },
    {
      "cell_type": "code",
      "metadata": {
        "id": "vaVfXAwxb4EI",
        "colab_type": "code",
        "colab": {}
      },
      "source": [
        "x = data_enc.drop(columns=[\"wysylka_oferty\",\"zakup\"])\n",
        "y = data_enc['zakup']"
      ],
      "execution_count": null,
      "outputs": []
    },
    {
      "cell_type": "code",
      "metadata": {
        "id": "-IVncu3Md7lk",
        "colab_type": "code",
        "colab": {}
      },
      "source": [
        "from sklearn.ensemble import RandomForestClassifier\n",
        "from sklearn.metrics import mean_absolute_error\n",
        "from sklearn.model_selection import train_test_split\n",
        "\n",
        "# training the model only on training data split\n",
        "x_train, x_test, y_train, y_test = train_test_split(x,y, random_state=0)"
      ],
      "execution_count": null,
      "outputs": []
    },
    {
      "cell_type": "code",
      "metadata": {
        "id": "O-YukKqpaYGD",
        "colab_type": "code",
        "colab": {
          "base_uri": "https://localhost:8080/",
          "height": 33
        },
        "outputId": "7565d14c-f4db-474a-9d69-d50ca0a2b110"
      },
      "source": [
        "from sklearn import metrics\n",
        "from sklearn.metrics import r2_score\n",
        "model = RandomForestClassifier(n_estimators=80, random_state=0)\n",
        "model.fit(x_train,y_train)\n",
        "predictions = model.predict(x_test)\n",
        "metrics.accuracy_score(y_test, predictions)"
      ],
      "execution_count": null,
      "outputs": [
        {
          "output_type": "execute_result",
          "data": {
            "text/plain": [
              "0.7292307692307692"
            ]
          },
          "metadata": {
            "tags": []
          },
          "execution_count": 630
        }
      ]
    },
    {
      "cell_type": "code",
      "metadata": {
        "id": "HY3oF9yA6REy",
        "colab_type": "code",
        "colab": {
          "base_uri": "https://localhost:8080/",
          "height": 33
        },
        "outputId": "45299215-c616-456e-a53e-ce24b3be0ba1"
      },
      "source": [
        "from sklearn.tree import DecisionTreeClassifier\n",
        "clf = DecisionTreeClassifier(random_state=0)\n",
        "clf.fit(x_train,y_train)\n",
        "preds = clf.predict(x_test)\n",
        "metrics.accuracy_score(y_test, preds)"
      ],
      "execution_count": null,
      "outputs": [
        {
          "output_type": "execute_result",
          "data": {
            "text/plain": [
              "0.6784615384615384"
            ]
          },
          "metadata": {
            "tags": []
          },
          "execution_count": 631
        }
      ]
    },
    {
      "cell_type": "code",
      "metadata": {
        "id": "jo-TtzAV7WC6",
        "colab_type": "code",
        "colab": {
          "base_uri": "https://localhost:8080/",
          "height": 33
        },
        "outputId": "a766b00d-7df4-4902-a475-38b676f776ab"
      },
      "source": [
        "clf = GradientBoostingClassifier(n_estimators=88,learning_rate=0.18, random_state=0)\n",
        "clf.fit(x_train, y_train)\n",
        "y_pred = clf.predict(x_test)\n",
        "metrics.accuracy_score(y_test, y_pred)"
      ],
      "execution_count": null,
      "outputs": [
        {
          "output_type": "execute_result",
          "data": {
            "text/plain": [
              "0.7615384615384615"
            ]
          },
          "metadata": {
            "tags": []
          },
          "execution_count": 632
        }
      ]
    },
    {
      "cell_type": "code",
      "metadata": {
        "id": "Yv94XL77nh6y",
        "colab_type": "code",
        "colab": {
          "base_uri": "https://localhost:8080/",
          "height": 33
        },
        "outputId": "96082808-fd72-4fdf-dc8c-5207d76e821d"
      },
      "source": [
        "import xgboost as xgb\n",
        "\n",
        "gbm = xgb.XGBClassifier(\n",
        "    learning_rate = 0.1,\n",
        " n_estimators= 4000,\n",
        " max_depth= 6,\n",
        " min_child_weight= 3,\n",
        " #gamma=1,\n",
        " gamma=0.5,\n",
        " subsample=0.8,\n",
        " colsample_bytree=0.8,\n",
        " objective= 'binary:logistic',\n",
        " nthread= -1,\n",
        " scale_pos_weight=1).fit(x_train, y_train)\n",
        "predictions = gbm.predict(x_test)\n",
        "print(metrics.accuracy_score(y_test, predictions))"
      ],
      "execution_count": null,
      "outputs": [
        {
          "output_type": "stream",
          "text": [
            "0.7184615384615385\n"
          ],
          "name": "stdout"
        }
      ]
    },
    {
      "cell_type": "code",
      "metadata": {
        "id": "mX5KfeK-6zW0",
        "colab_type": "code",
        "colab": {
          "base_uri": "https://localhost:8080/",
          "height": 50
        },
        "outputId": "040227b8-7c74-4991-a538-8582dd8d881b"
      },
      "source": [
        "from sklearn.ensemble import AdaBoostClassifier,GradientBoostingClassifier\n",
        "from sklearn.naive_bayes import GaussianNB\n",
        "from sklearn.linear_model import LogisticRegression\n",
        "from time import time\n",
        "# Import Support Vector Classifier\n",
        "# from sklearn.svm import SVC\n",
        "# svc=SVC(probability=True, kernel='linear')\n",
        "# gnb = GaussianNB()\n",
        "logistic = LogisticRegression()\n",
        "start = time()\n",
        "ada_clf = AdaBoostClassifier(n_estimators=800, base_estimator=logistic, learning_rate=0.18, random_state=0)\n",
        "ada_clf.fit(x_train, y_train)\n",
        "end=time()\n",
        "\n",
        "ada_y_pred = ada_clf.predict(x_test)\n",
        "# print(ada_clf.get_params())\n",
        "print(metrics.accuracy_score(y_test, ada_y_pred))\n",
        "print(f'training time: {end-start}')"
      ],
      "execution_count": null,
      "outputs": [
        {
          "output_type": "stream",
          "text": [
            "0.7723076923076924\n",
            "training time: 10.053094387054443\n"
          ],
          "name": "stdout"
        }
      ]
    },
    {
      "cell_type": "code",
      "metadata": {
        "id": "NLZpzTVDRnWb",
        "colab_type": "code",
        "colab": {
          "base_uri": "https://localhost:8080/",
          "height": 33
        },
        "outputId": "5387fd5c-efa3-4914-c5f8-19e0cd002cb3"
      },
      "source": [
        "data2 = data_start.loc[(data_start.wysylka_oferty == 0) & (data_start.zakup == 0)]\n",
        "data2_pre = data2.drop(columns=['wysylka_oferty','zakup'])\n",
        "data2_pre.shape "
      ],
      "execution_count": null,
      "outputs": [
        {
          "output_type": "execute_result",
          "data": {
            "text/plain": [
              "(7437, 6)"
            ]
          },
          "metadata": {
            "tags": []
          },
          "execution_count": 634
        }
      ]
    },
    {
      "cell_type": "code",
      "metadata": {
        "id": "HeNLJK6OSiYP",
        "colab_type": "code",
        "colab": {}
      },
      "source": [
        "# data2 encoding\n",
        "categorical_cols2 = ['wyksztalcenie', 'miejsce', 'wojewodztwo']\n",
        "OH_cols_train2 = pd.DataFrame(OH_encoder.fit_transform(data2_pre[categorical_cols2]))\n",
        "\n",
        "OH_cols_train2.index = data2_pre.index\n",
        "\n",
        "# Remove categorical columns (will replace with one-hot encoding)\n",
        "num_X_train2 = data2_pre.drop(categorical_cols, axis=1)\n",
        "\n",
        "# Add one-hot encoded columns to numerical features\n",
        "data2_enc = pd.concat([num_X_train2, OH_cols_train2], axis=1)"
      ],
      "execution_count": null,
      "outputs": []
    },
    {
      "cell_type": "code",
      "metadata": {
        "id": "Ac9Q9bizXIoY",
        "colab_type": "code",
        "colab": {}
      },
      "source": [
        "data2_y = ada_clf.predict(data2_enc)\n",
        "data2_enc['zakup'] = data2_y"
      ],
      "execution_count": null,
      "outputs": []
    },
    {
      "cell_type": "code",
      "metadata": {
        "id": "7zP1zfNucy6Q",
        "colab_type": "code",
        "colab": {}
      },
      "source": [
        "data_enc = data_enc.drop(columns=[\"wysylka_oferty\"])"
      ],
      "execution_count": null,
      "outputs": []
    },
    {
      "cell_type": "code",
      "metadata": {
        "id": "tvfeCSNjfDFl",
        "colab_type": "code",
        "colab": {
          "base_uri": "https://localhost:8080/",
          "height": 33
        },
        "outputId": "8b7ad366-b0c7-426e-e72b-35442c1bd0cd"
      },
      "source": [
        "data2_enc.zakup.sum()"
      ],
      "execution_count": null,
      "outputs": [
        {
          "output_type": "execute_result",
          "data": {
            "text/plain": [
              "3418"
            ]
          },
          "metadata": {
            "tags": []
          },
          "execution_count": 638
        }
      ]
    },
    {
      "cell_type": "code",
      "metadata": {
        "id": "gWr9lYVRd7B7",
        "colab_type": "code",
        "colab": {}
      },
      "source": [
        "data_final = pd.concat([data_enc, data2_enc])"
      ],
      "execution_count": null,
      "outputs": []
    },
    {
      "cell_type": "code",
      "metadata": {
        "id": "MePxKYyKehyw",
        "colab_type": "code",
        "colab": {
          "base_uri": "https://localhost:8080/",
          "height": 33
        },
        "outputId": "102e278a-7a8e-422c-e7d7-b4c9fc8154f6"
      },
      "source": [
        "data_final.zakup.sum()"
      ],
      "execution_count": null,
      "outputs": [
        {
          "output_type": "execute_result",
          "data": {
            "text/plain": [
              "4735"
            ]
          },
          "metadata": {
            "tags": []
          },
          "execution_count": 640
        }
      ]
    },
    {
      "cell_type": "code",
      "metadata": {
        "id": "3w4MY4pFZKrw",
        "colab_type": "code",
        "colab": {}
      },
      "source": [
        "X = data_final.drop(columns=[\"zakup\"])\n",
        "Y = data_final['zakup']"
      ],
      "execution_count": null,
      "outputs": []
    },
    {
      "cell_type": "code",
      "metadata": {
        "id": "UA-X6XLjgjkD",
        "colab_type": "code",
        "colab": {}
      },
      "source": [
        "# training on full data (2 csv files)\n",
        "\n",
        "model2 = AdaBoostClassifier(n_estimators=800, base_estimator=logistic, learning_rate=0.18, random_state=0)\n",
        "model2.fit(X,Y)\n",
        "\n",
        "# finally we can predict our results\n",
        "predictions2 = model2.predict(test_enc)\n",
        "\n",
        "output = pd.DataFrame({\"x\": test_enc.index, \"wysylka_oferty\": predictions2})\n",
        "output.to_csv(\"wysylka_tuned.csv\", index=False)"
      ],
      "execution_count": null,
      "outputs": []
    }
  ]
}